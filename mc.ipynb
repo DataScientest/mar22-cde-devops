{
 "cells": [
  {
   "cell_type": "markdown",
   "metadata": {},
   "source": [
    "## Rappels HTTP\n",
    "\n",
    "### Requete\n",
    "\n",
    "1. URL\n",
    "2. Methode\n",
    "3. En-tetes\n",
    "4. Corps (optionnel)\n",
    "\n",
    "\n",
    "1. URL\n",
    "\n",
    "http://example.org/page/1/edit\n",
    "\n",
    "- protocole: http(s)://\n",
    "- nom de domaine: example.org (simplifie l'adresse IP du serveur)\n",
    "- route: /page/1/edit\n",
    "\n",
    "\n",
    "2. Méthode\n",
    "\n",
    "GET, POST, PUT, DELETE, ...\n",
    "\n",
    "3. En-Têtes\n",
    "\n",
    "Méta-données de la requête (encoding, l'appareil qui fait la requête, token d'authentification, ...)\n",
    "\n",
    "4. Corps\n",
    "\n",
    "Données que l'on veut faire passer au serveur\n",
    "\n",
    "### Réponse\n",
    "\n",
    "1. En-Têtes\n",
    "2. Corps\n",
    "3. Status Code\n",
    "\n",
    "1. En-Têtes\n",
    "\n",
    "Méta-données ...\n",
    "\n",
    "2. Corps \n",
    "\n",
    "Données\n",
    "\n",
    "3. Status Code\n",
    "\n",
    "- 200: Tout va bien\n",
    "- 404: on s'est trompé dans l'URL\n",
    "- 403: on n'est pas autorisé à faire cette requête\n",
    "- 20X: ok\n",
    "- 40X: le client a fait une erreur\n",
    "- 50X: le serveur qui a fait une erreur\n"
   ]
  },
  {
   "cell_type": "code",
   "execution_count": 2,
   "metadata": {},
   "outputs": [
    {
     "name": "stdout",
     "output_type": "stream",
     "text": [
      "200\n",
      "b'<!doctype html>\\n<html>\\n<head>\\n    <title>Example Domain</title>\\n\\n    <meta charset=\"utf-8\" />\\n    <meta http-equiv=\"Content-type\" content=\"text/html; charset=utf-8\" />\\n    <meta name=\"viewport\" content=\"width=device-width, initial-scale=1\" />\\n    <style type=\"text/css\">\\n    body {\\n        background-color: #f0f0f2;\\n        margin: 0;\\n        padding: 0;\\n        font-family: -apple-system, system-ui, BlinkMacSystemFont, \"Segoe UI\", \"Open Sans\", \"Helvetica Neue\", Helvetica, Arial, sans-serif;\\n        \\n    }\\n    div {\\n        width: 600px;\\n        margin: 5em auto;\\n        padding: 2em;\\n        background-color: #fdfdff;\\n        border-radius: 0.5em;\\n        box-shadow: 2px 3px 7px 2px rgba(0,0,0,0.02);\\n    }\\n    a:link, a:visited {\\n        color: #38488f;\\n        text-decoration: none;\\n    }\\n    @media (max-width: 700px) {\\n        div {\\n            margin: 0 auto;\\n            width: auto;\\n        }\\n    }\\n    </style>    \\n</head>\\n\\n<body>\\n<div>\\n    <h1>Example Domain</h1>\\n    <p>This domain is for use in illustrative examples in documents. You may use this\\n    domain in literature without prior coordination or asking for permission.</p>\\n    <p><a href=\"https://www.iana.org/domains/example\">More information...</a></p>\\n</div>\\n</body>\\n</html>\\n'\n"
     ]
    }
   ],
   "source": [
    "import requests\n",
    "\n",
    "response = requests.get(\n",
    "    url=\"http://example.org\",\n",
    "    headers={\"en-tete\": \"hello world\"}\n",
    ")\n",
    "\n",
    "print(response.status_code)\n",
    "\n",
    "print(response.content)"
   ]
  },
  {
   "cell_type": "markdown",
   "metadata": {},
   "source": [
    "## OpenWeatherMap\n"
   ]
  },
  {
   "cell_type": "code",
   "execution_count": 3,
   "metadata": {},
   "outputs": [],
   "source": [
    "API_URL = \"https://api.openweathermap.org/data/2.5/weather\"\n",
    "API_KEY = \"562adc7461fc926d1e66b68df3d53aaa\"\n",
    "\n",
    "response = requests.get(\n",
    "    url=API_URL,\n",
    "    params={\n",
    "        \"lat\": 45,\n",
    "        \"lon\": 2,\n",
    "        \"appid\": API_KEY\n",
    "    }\n",
    ")"
   ]
  },
  {
   "cell_type": "code",
   "execution_count": 4,
   "metadata": {},
   "outputs": [
    {
     "data": {
      "text/plain": [
       "200"
      ]
     },
     "execution_count": 4,
     "metadata": {},
     "output_type": "execute_result"
    }
   ],
   "source": [
    "response.status_code"
   ]
  },
  {
   "cell_type": "code",
   "execution_count": 5,
   "metadata": {},
   "outputs": [
    {
     "data": {
      "text/plain": [
       "b'{\"coord\":{\"lon\":2,\"lat\":45},\"weather\":[{\"id\":800,\"main\":\"Clear\",\"description\":\"clear sky\",\"icon\":\"01d\"}],\"base\":\"stations\",\"main\":{\"temp\":299.43,\"feels_like\":299.43,\"temp_min\":299.43,\"temp_max\":300.17,\"pressure\":1021,\"humidity\":39,\"sea_level\":1021,\"grnd_level\":957},\"visibility\":10000,\"wind\":{\"speed\":1.52,\"deg\":303,\"gust\":1.4},\"clouds\":{\"all\":0},\"dt\":1658399180,\"sys\":{\"type\":2,\"id\":2037729,\"country\":\"FR\",\"sunrise\":1658377503,\"sunset\":1658431883},\"timezone\":7200,\"id\":2974466,\"name\":\"Siran\",\"cod\":200}'"
      ]
     },
     "execution_count": 5,
     "metadata": {},
     "output_type": "execute_result"
    }
   ],
   "source": [
    "response.content"
   ]
  },
  {
   "cell_type": "code",
   "execution_count": 6,
   "metadata": {},
   "outputs": [
    {
     "data": {
      "text/plain": [
       "{'coord': {'lon': 2, 'lat': 45},\n",
       " 'weather': [{'id': 800,\n",
       "   'main': 'Clear',\n",
       "   'description': 'clear sky',\n",
       "   'icon': '01d'}],\n",
       " 'base': 'stations',\n",
       " 'main': {'temp': 299.43,\n",
       "  'feels_like': 299.43,\n",
       "  'temp_min': 299.43,\n",
       "  'temp_max': 300.17,\n",
       "  'pressure': 1021,\n",
       "  'humidity': 39,\n",
       "  'sea_level': 1021,\n",
       "  'grnd_level': 957},\n",
       " 'visibility': 10000,\n",
       " 'wind': {'speed': 1.52, 'deg': 303, 'gust': 1.4},\n",
       " 'clouds': {'all': 0},\n",
       " 'dt': 1658399180,\n",
       " 'sys': {'type': 2,\n",
       "  'id': 2037729,\n",
       "  'country': 'FR',\n",
       "  'sunrise': 1658377503,\n",
       "  'sunset': 1658431883},\n",
       " 'timezone': 7200,\n",
       " 'id': 2974466,\n",
       " 'name': 'Siran',\n",
       " 'cod': 200}"
      ]
     },
     "execution_count": 6,
     "metadata": {},
     "output_type": "execute_result"
    }
   ],
   "source": [
    "response.json()"
   ]
  },
  {
   "cell_type": "markdown",
   "metadata": {},
   "source": [
    "## Mon API"
   ]
  },
  {
   "cell_type": "code",
   "execution_count": 8,
   "metadata": {},
   "outputs": [
    {
     "data": {
      "text/plain": [
       "'http://0.0.0.0:8000/hello'"
      ]
     },
     "execution_count": 8,
     "metadata": {},
     "output_type": "execute_result"
    }
   ],
   "source": [
    "API_URL = \"http://0.0.0.0:8000\"\n",
    "f\"{API_URL}/hello\""
   ]
  },
  {
   "cell_type": "code",
   "execution_count": 10,
   "metadata": {},
   "outputs": [
    {
     "name": "stdout",
     "output_type": "stream",
     "text": [
      "200\n"
     ]
    },
    {
     "data": {
      "text/plain": [
       "{'message': 'hello'}"
      ]
     },
     "execution_count": 10,
     "metadata": {},
     "output_type": "execute_result"
    }
   ],
   "source": [
    "response = requests.get(\n",
    "    url=f\"{API_URL}/hello\"\n",
    ")\n",
    "\n",
    "\n",
    "print(response.status_code)\n",
    "\n",
    "response.json()"
   ]
  },
  {
   "cell_type": "code",
   "execution_count": 11,
   "metadata": {},
   "outputs": [
    {
     "name": "stdout",
     "output_type": "stream",
     "text": [
      "404\n"
     ]
    },
    {
     "data": {
      "text/plain": [
       "{'detail': 'Not Found'}"
      ]
     },
     "execution_count": 11,
     "metadata": {},
     "output_type": "execute_result"
    }
   ],
   "source": [
    "response = requests.get(\n",
    "    url=f\"{API_URL}/hello1234\"\n",
    ")\n",
    "\n",
    "\n",
    "print(response.status_code)\n",
    "\n",
    "response.json()"
   ]
  },
  {
   "cell_type": "code",
   "execution_count": 12,
   "metadata": {},
   "outputs": [
    {
     "name": "stdout",
     "output_type": "stream",
     "text": [
      "200\n"
     ]
    },
    {
     "data": {
      "text/plain": [
       "{'message': 'hello but from a post method'}"
      ]
     },
     "execution_count": 12,
     "metadata": {},
     "output_type": "execute_result"
    }
   ],
   "source": [
    "response = requests.post(\n",
    "    url=f\"{API_URL}/hello\"\n",
    ")\n",
    "\n",
    "\n",
    "print(response.status_code)\n",
    "\n",
    "response.json()"
   ]
  },
  {
   "cell_type": "code",
   "execution_count": null,
   "metadata": {},
   "outputs": [],
   "source": []
  }
 ],
 "metadata": {
  "kernelspec": {
   "display_name": "Python 3 (ipykernel)",
   "language": "python",
   "name": "python3"
  },
  "language_info": {
   "codemirror_mode": {
    "name": "ipython",
    "version": 3
   },
   "file_extension": ".py",
   "mimetype": "text/x-python",
   "name": "python",
   "nbconvert_exporter": "python",
   "pygments_lexer": "ipython3",
   "version": "3.8.10"
  }
 },
 "nbformat": 4,
 "nbformat_minor": 4
}
